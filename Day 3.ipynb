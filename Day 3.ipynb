{
 "cells": [
  {
   "cell_type": "markdown",
   "metadata": {},
   "source": [
    "# Question 1 - Two pointers strategy\n",
    "## Prompt:\n",
    "### Given a list and a target value `k`, return the length of the smallest subarray with sum greater than or equal to `k`\n",
    "Geeksforgeeks link - https://www.geeksforgeeks.org/minimum-length-subarray-sum-greater-given-value/"
   ]
  },
  {
   "cell_type": "markdown",
   "metadata": {},
   "source": [
    "## Initial brute force approach\n",
    "I like to start all things off with the brute force approach because then you have an idea of what you're working with and where to look in order to improve your solution.\n",
    "\n",
    "For this question, a brute force solution would involve two nested loops. For each index in the array, you would see what's the minimum numbers of subsequent items you need to add in order to be greater than or equal to `k`. So this brute force solution has a runtime complexity of `O(n^2)` with `n = the number of elements in the input list`."
   ]
  },
  {
   "cell_type": "markdown",
   "metadata": {},
   "source": [
    "## Better solution\n",
    "Given that we have an initial brute force solution of `O(n^2)`, some possible improvements include reducing the complexity to `O(n*logn)` and `O(n)` runtime. Note, some of these improvements will be a tradeoff with space complexity and the idea behind this is to store some of the calculations as you go in some kind of data structure. This is the whole idea of an \"algorithms and data structure\" programming interview after all.\n",
    "\n",
    "So what does an `O(n*logn)` solution look like? Well upon initial thinking, that's probably not a valid approach because we want to keep the initial structure of the array. This is because you want to find the subarray, which means the order of the initial array should not be changed.\n",
    "\n",
    "Ok so what does an `O(n)` solution look like? Well for these kinds of solutions, it means that we can only scan the input list `X` number of times where `X` is some defined number. We call this number a \"constant\" because it's a pre-determined number and not dependent on the input. It could be 2, 3, 6, etc. So how can we find the smallest subarray with a sum greater than or equal to `k`?\n",
    "\n",
    "We will rely on a sliding window approach. You can think of it as having two pointers, one pointing to the left side of the window, and one pointing to the right side of the window. Our key insight is to rely on the fact that when the  right pointer moves by one, we are _adding_ to the subarray sum for that window and when the left pointer moves by one, we are _subtracting_ from the subarray sum for that window. Understanding this, when the sum of the window is `>= k`, we can move the left pointer and when the sum of the window is `< k`, we can move the right pointer."
   ]
  },
  {
   "cell_type": "code",
   "execution_count": 5,
   "metadata": {},
   "outputs": [
    {
     "name": "stdout",
     "output_type": "stream",
     "text": [
      "True\n",
      "True\n",
      "True\n",
      "True\n"
     ]
    }
   ],
   "source": [
    "def minimumLengthSubarray(target, nums):\n",
    "  minimumLength = None\n",
    "  leftPtr = 0\n",
    "  rightPtr = 0\n",
    "  runningSum = nums[0]\n",
    "  while leftPtr < len(nums):\n",
    "    # print('new running sum: ', runningSum)\n",
    "    if runningSum >= target:\n",
    "      if not minimumLength:\n",
    "        minimumLength = rightPtr - leftPtr + 1\n",
    "        # print('new min length: ', minimumLength)\n",
    "      else:\n",
    "        minimumLength = min(minimumLength, rightPtr - leftPtr + 1)\n",
    "        # print('new min length: ', minimumLength)\n",
    "      \n",
    "      runningSum -= nums[leftPtr]\n",
    "      leftPtr += 1\n",
    "    else:\n",
    "      # if right ptr is at the end\n",
    "      if rightPtr == len(nums) - 1:\n",
    "        if leftPtr == len(nums) - 1:\n",
    "          break\n",
    "        \n",
    "        runningSum -= nums[leftPtr]\n",
    "        leftPtr += 1\n",
    "      else:\n",
    "        rightPtr += 1\n",
    "        runningSum += nums[rightPtr]\n",
    "        \n",
    "  if not minimumLength:\n",
    "    return -1\n",
    "    \n",
    "  return minimumLength\n",
    "\n",
    "print(minimumLengthSubarray(7, [2, 3, 1]) == -1)\n",
    "print(minimumLengthSubarray(7, [7]) == 1)\n",
    "print(minimumLengthSubarray(7, [2, 3, 1, 2, 4, 3]) == 2)\n",
    "print(minimumLengthSubarray(7, [2, 3, -10, 4, 3]) == 2)"
   ]
  },
  {
   "cell_type": "markdown",
   "metadata": {},
   "source": [
    "Note: there is an I'll leave it as an exercise for the reader to figure out if "
   ]
  },
  {
   "cell_type": "markdown",
   "metadata": {},
   "source": [
    "# Question 2: a system design question to mix things up\n",
    "I feel like a lot of the interviews I do nowadays involve at least some level of system design. I figured this one would be a good one to start with as it is relatively straight forward. Most software engineers will have come across the idea of a cache at some point in their careers.\n",
    "## Prompt:\n",
    "### Design a caching system - build something similar to Redis/Memcached\n",
    "\n",
    "At Square we often use the [\"Jobs to be Done\"](https://jtbd.info/) framework when thinking about what to build. Thus:\n",
    "\n",
    "#### Jobs to be done for a caching system:\n",
    "* reliably re-serve data that was fetched `X` minutes ago\n",
    "* support this fetch across multiple machines\n",
    "* expire data after a certain period of time (`Y` minutes)\n",
    "* provide metrics - what metrics do we want and how do we want to serve them? eg. hit rate given a generic LRU eviction policy, deciding to integrate with Datadog or some other service\n",
    "* support and enforce a certain size limit - how to handle when cache is full (what kind of eviction policy)?\n",
    "* support concurrency - how do we want to lock and ensure thread safety?\n",
    "\n",
    "More questions to consider:\n",
    "* do we want to support redundancy? eg. if system breaks, we can restore and handle failure gracefully\n",
    "* how much of traditional DB functionality do we want to mimic eg. atomicity, consistency, isolation, durability\n",
    "\n",
    "At this point I wanted to turn it over to [a nice Medium article](https://medium.com/@narengowda/designing-the-caching-system-e42c6938df6a) I found while browsing other solutions to this question. It covers some of the bullets I mentioned and also some that I do not mention."
   ]
  },
  {
   "cell_type": "markdown",
   "metadata": {},
   "source": [
    "Lastly, I wanted to share another good resource for practicing programming interview questions in your favorite language. [CodeSignal (formerly known as CodeFights)](https://app.codesignal.com/interview-practice) is another entertaining way of practicing without feeling overly monotonous."
   ]
  }
 ],
 "metadata": {
  "kernelspec": {
   "display_name": "Python 3",
   "language": "python",
   "name": "python3"
  },
  "language_info": {
   "codemirror_mode": {
    "name": "ipython",
    "version": 3
   },
   "file_extension": ".py",
   "mimetype": "text/x-python",
   "name": "python",
   "nbconvert_exporter": "python",
   "pygments_lexer": "ipython3",
   "version": "3.8.2"
  }
 },
 "nbformat": 4,
 "nbformat_minor": 4
}
