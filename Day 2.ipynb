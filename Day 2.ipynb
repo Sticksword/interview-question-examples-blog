{
 "cells": [
  {
   "cell_type": "markdown",
   "metadata": {},
   "source": [
    "# Question 1 - Unique Binary Search Trees\n",
    "## Prompt:\n",
    "### Given n, how many structurally unique BST's (binary search trees) that store values 1 ... n?\n",
    "Leetcode link - https://leetcode.com/problems/unique-binary-search-trees/"
   ]
  },
  {
   "cell_type": "markdown",
   "metadata": {},
   "source": [
    "## Approach:\n",
    "\n",
    "Initial brute force approach would be to iterate across all possible trees, which would mean creating/navigating each possible tree path. This is very expensive in terms of run time. You can try a left side of 0 items and stick all the rest to the right side. You can try a left side with just 1 item and stick the rest to the right. Thus we can think of all the combinations as:\n",
    "* 0 to the left, n - 1 to the right\n",
    "* 1 to the left, n - 2 to the right\n",
    "* ...\n",
    "* n - 1 to the left, 0 to the right\n",
    "\n",
    "We have to do this for each depth of the tree, and the depth of the tree can be up to n deep, meaning the worst case runtime would be O(n^n).\n",
    "\n",
    "One key thing to note here is that for a BST, all things assigned to the left must be lower and all things assigned to the right must be higher. Because of this, we can just think of all the numbers as a bunch of blocks numbered 1 to n and we simply have to pick a block to be the divider (parent node) and all the blocks on the left go to the left side of the BST and all the blocks on the right go to the right side of the BST.\n",
    "\n",
    "So how do we reduce something that is exponential in nature? We can take this as a hint to use [Dynamic Programming](https://www.geeksforgeeks.org/dynamic-programming/) to make things linear in nature.\n",
    "\n",
    "The recursive sub problem that we can memoize is running `numTrees` on a smaller `n` value. The base case would be when `n` is either 1 or 0, in which case, there is only 1 possible resulting tree structure."
   ]
  },
  {
   "cell_type": "code",
   "execution_count": 6,
   "metadata": {},
   "outputs": [
    {
     "data": {
      "text/plain": [
       "42"
      ]
     },
     "execution_count": 6,
     "metadata": {},
     "output_type": "execute_result"
    }
   ],
   "source": [
    "class Solution:\n",
    "    def __init__(self):\n",
    "        self.mapping = dict()\n",
    "        \n",
    "    def numTrees(self, n: int) -> int:\n",
    "        if n < 2:\n",
    "            return 1\n",
    "        \n",
    "        if n in self.mapping:\n",
    "            return self.mapping[n]\n",
    "        \n",
    "        count = 0\n",
    "        for i in range(n):\n",
    "            count += self.numTrees(i) * self.numTrees(n - 1 - i)\n",
    "            \n",
    "        self.mapping[n] = count\n",
    "        return count\n",
    "    \n",
    "s = Solution()\n",
    "s.numTrees(5)"
   ]
  },
  {
   "cell_type": "markdown",
   "metadata": {},
   "source": [
    "## Analysis:\n",
    "Our new solution only calculates `numTrees` n times because whenever we encounter some `n` value again, we have a memoized value to draw from. Thus the new runtime is O(n) with space O(n) as well.\n",
    "\n",
    "### 07/25/2020 execution results\n",
    "Runtime: 28 ms, faster than 75.31% of Python3 online submissions for Unique Binary Search Trees.\n",
    "Memory Usage: 14 MB, less than 17.61% of Python3 online submissions for Unique Binary Search Trees.\n",
    "\n",
    "As we can see here, the runtime is pretty solid at the 75th percentile while the memory performance is a bit poor, coming in at the bottom quartile. We could improve the memory complexity if we didn't track the number of unique BSTs at each value of `n`."
   ]
  },
  {
   "cell_type": "markdown",
   "metadata": {},
   "source": [
    "# Question 2 - a pseudo graph problem\n",
    "## Prompt: Given a graph as an adjacency list, output the max possible \"network rank\" in this graph.\n"
   ]
  },
  {
   "attachments": {},
   "cell_type": "markdown",
   "metadata": {},
   "source": [
    "![pseudo-graph.png](assets/pseudo-graph.png)\n",
    "\n",
    "## Approach:\n",
    "We can break this problem down into two steps.\n",
    "1. Iterate over the edges and compute scores for each node/city\n",
    "2. Iterate over the edges and compute scores for each edge/road"
   ]
  },
  {
   "cell_type": "code",
   "execution_count": 7,
   "metadata": {},
   "outputs": [
    {
     "data": {
      "text/plain": [
       "3"
      ]
     },
     "execution_count": 7,
     "metadata": {},
     "output_type": "execute_result"
    }
   ],
   "source": [
    "# technically we don't really need an N if we assume the input is correctly formatted\n",
    "def solution(A, B, N):\n",
    "    cityScores = dict()\n",
    "    for i in range(len(A)):\n",
    "        cityScores.setdefault(A[i], 0)\n",
    "        cityScores[A[i]] += 1\n",
    "        cityScores.setdefault(B[i], 0)\n",
    "        cityScores[B[i]] += 1\n",
    "        \n",
    "    maxRoadScore = 0\n",
    "    for i in range(len(A)):\n",
    "        # don't want to double count the road that connects the two cities\n",
    "        roadScore = cityScores[A[i]] + cityScores[B[i]] - 1\n",
    "        maxRoadScore = max(maxRoadScore, roadScore)\n",
    "        \n",
    "    return maxRoadScore\n",
    "        \n",
    "solution([1, 2, 3, 4], [2, 3, 4, 5], 5)"
   ]
  },
  {
   "attachments": {},
   "cell_type": "markdown",
   "metadata": {},
   "source": [
    "# Question 3 - a stack related problem\n",
    "## Prompt:\n",
    "You are given an array of N distinct integers. We would like to sort this array into ascending order using a simple algorithm:\n",
    "\n",
    "First we divide array into one or more contiguous subarrays. Then we sort each subarray. After that, we join the sorted subarrays in the same order it was divided.\n",
    "\n",
    "What's the max number of subarrays you can make such that this algorithm works?\n",
    "\n",
    "Another way to think about it is what's the max number of groups I can split this array into such that when each group is sorted, the whole array is sorted?\n",
    "\n",
    "![fancy-sort-examples.png](assets/fancy-sort-examples.png)"
   ]
  },
  {
   "cell_type": "code",
   "execution_count": 8,
   "metadata": {},
   "outputs": [
    {
     "name": "stdout",
     "output_type": "stream",
     "text": [
      "1\n"
     ]
    },
    {
     "data": {
      "text/plain": [
       "3"
      ]
     },
     "execution_count": 8,
     "metadata": {},
     "output_type": "execute_result"
    }
   ],
   "source": [
    "def solution(A):\n",
    "    # each item in the stack represents the max value of one slice that needs to be sorted\n",
    "    # size of stack = max total number of slices that need to be sorted\n",
    "    stack = []\n",
    "    for num in A:\n",
    "        # print('stack so far: ', stack)\n",
    "        # print('processing: ', num)\n",
    "        if stack and num < stack[-1]:\n",
    "            largest = stack.pop()\n",
    "            # remove until our curr num is second biggest after \"largest\"\n",
    "            while stack and num < stack[-1]:\n",
    "                stack.pop()\n",
    "            # put largest back into stack\n",
    "            stack.append(largest)\n",
    "        else:\n",
    "            stack.append(num)\n",
    "        \n",
    "        \n",
    "    return len(stack)\n",
    "\n",
    "print(solution([4, 3, 2, 6, 1])) # 1\n",
    "solution([3, 2, 6, 5, 9, 7]) # 3"
   ]
  },
  {
   "cell_type": "markdown",
   "metadata": {},
   "source": [
    "### misc.\n",
    "Recently, another resource I have found to supplement Leetcode in case you are getting bored of Leetcode is [Codility](https://app.codility.com). They have coding lessons and challenges for programmers of all levels to participate in.\n",
    "\n",
    "*Happy coding and godspeed on getting a job!* <3"
   ]
  },
  {
   "cell_type": "code",
   "execution_count": null,
   "metadata": {},
   "outputs": [],
   "source": []
  }
 ],
 "metadata": {
  "kernelspec": {
   "display_name": "Python 3",
   "language": "python",
   "name": "python3"
  },
  "language_info": {
   "codemirror_mode": {
    "name": "ipython",
    "version": 3
   },
   "file_extension": ".py",
   "mimetype": "text/x-python",
   "name": "python",
   "nbconvert_exporter": "python",
   "pygments_lexer": "ipython3",
   "version": "3.8.2"
  }
 },
 "nbformat": 4,
 "nbformat_minor": 4
}
