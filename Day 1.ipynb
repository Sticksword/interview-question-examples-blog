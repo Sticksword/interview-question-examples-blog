{
 "cells": [
  {
   "cell_type": "markdown",
   "metadata": {},
   "source": [
    "# Question 1"
   ]
  },
  {
   "cell_type": "markdown",
   "metadata": {},
   "source": [
    "## Prompt: Given a list of distinct ints, output a list of all combinations\n",
    "\n",
    "Not sure if this exists on Leetcode but I figured it would be a good starter problem."
   ]
  },
  {
   "attachments": {
    "tree12345.png": {
     "image/png": "[encoded data removed]"
    }
   },
   "cell_type": "markdown",
   "metadata": {},
   "source": [
    "## Approach:\n",
    "![tree12345.png](attachment:tree12345.png)\n",
    "Create a recursive helper that takes a list of integers and checks whether or not the list is the length desired.\n",
    "This is the base case.\n",
    "\n",
    "Otherwise we loop over the input list and for each element, we pick that element for one of our combinations and pass the rest of the array to a recursive call.\n",
    "\n",
    "Call this helper from a main method that generates combinations for all lengths up to the length of the input list."
   ]
  },
  {
   "cell_type": "code",
   "execution_count": 23,
   "metadata": {},
   "outputs": [
    {
     "data": {
      "text/plain": [
       "[[1],\n",
       " [2],\n",
       " [3],\n",
       " [4],\n",
       " [5],\n",
       " [1, 2],\n",
       " [1, 3],\n",
       " [1, 4],\n",
       " [1, 5],\n",
       " [2, 3],\n",
       " [2, 4],\n",
       " [2, 5],\n",
       " [3, 4],\n",
       " [3, 5],\n",
       " [4, 5],\n",
       " [1, 2, 3],\n",
       " [1, 2, 4],\n",
       " [1, 2, 5],\n",
       " [1, 3, 4],\n",
       " [1, 3, 5],\n",
       " [1, 4, 5],\n",
       " [2, 3, 4],\n",
       " [2, 3, 5],\n",
       " [2, 4, 5],\n",
       " [3, 4, 5],\n",
       " [1, 2, 3, 4],\n",
       " [1, 2, 3, 5],\n",
       " [1, 2, 4, 5],\n",
       " [1, 3, 4, 5],\n",
       " [2, 3, 4, 5],\n",
       " [1, 2, 3, 4, 5]]"
      ]
     },
     "execution_count": 23,
     "metadata": {},
     "output_type": "execute_result"
    }
   ],
   "source": [
    "from typing import List\n",
    "\n",
    "class Solution:\n",
    "    def __init__(self):\n",
    "        self.combinations = []\n",
    "        \n",
    "    def generate_all_combinations(self, nums: List) -> List:\n",
    "        for possible_comb_length in range(1, len(nums) + 1):\n",
    "            self.generate_combinations(nums, [], possible_comb_length)\n",
    "            \n",
    "        return self.combinations\n",
    "        \n",
    "    def generate_combinations(self, nums: List, combination_so_far: List, k: int) -> None:\n",
    "        if len(combination_so_far) == k:\n",
    "            self.combinations.append(combination_so_far.copy())\n",
    "            return\n",
    "        \n",
    "        for idx in range(len(nums)):\n",
    "            combination_so_far.append(nums[idx])\n",
    "            self.generate_combinations(nums[idx + 1::], combination_so_far, k)\n",
    "            combination_so_far.pop()\n",
    "        \n",
    "s = Solution()\n",
    "s.generate_all_combinations([1, 2, 3, 4, 5])"
   ]
  },
  {
   "cell_type": "markdown",
   "metadata": {},
   "source": [
    "# Explanation"
   ]
  },
  {
   "cell_type": "markdown",
   "metadata": {},
   "source": [
    "The trick here is to only look forward when considering what to pass in for the recursive call. The reason is for combinations, order does not matter whereas for permutations, order does."
   ]
  },
  {
   "cell_type": "markdown",
   "metadata": {},
   "source": [
    "# Question 2:"
   ]
  },
  {
   "cell_type": "markdown",
   "metadata": {},
   "source": [
    "## Prompt: Given an encoded string, return its decoded form\n",
    "The encoding rule is: `k[encoded_string]`, where the encoded_string inside the square brackets is being repeated exactly _`k`_ times. Note that _`k`_ is guaranteed to be a positive integer.\n",
    "\n",
    "You may assume that the input string is always valid; No extra white spaces, square brackets are well-formed, etc.\n",
    "\n",
    "Furthermore, you may assume that the original data does not contain any digits and that digits are only for those repeat numbers, _`k`_. For example, there won't be input like `3a` or `2[4]`.\n",
    "\n",
    "[Leetcode link](https://leetcode.com/problems/decode-string/)"
   ]
  },
  {
   "cell_type": "markdown",
   "metadata": {},
   "source": [
    "## Approach:\n",
    "We can go about this by processing each character in the string. We will utilise a stack to store what we should use next when processing each character."
   ]
  },
  {
   "cell_type": "code",
   "execution_count": 24,
   "metadata": {},
   "outputs": [
    {
     "data": {
      "text/plain": [
       "True"
      ]
     },
     "execution_count": 24,
     "metadata": {},
     "output_type": "execute_result"
    }
   ],
   "source": [
    "class Solution:\n",
    "    def decodeString(self, s: str) -> str:\n",
    "        stack = []\n",
    "        curr = ''\n",
    "        multiplier = ''\n",
    "        for ch in s:\n",
    "            if ch.isnumeric():\n",
    "                if curr:\n",
    "                    stack.append(curr)\n",
    "                    curr = ''\n",
    "                multiplier += ch\n",
    "            elif ch == '[':\n",
    "                stack.append(multiplier)\n",
    "                multiplier = ''\n",
    "            elif ch == ']':\n",
    "                while not stack[-1].isdigit():\n",
    "                    curr = stack.pop() + curr\n",
    "                m = int(stack.pop())\n",
    "                curr = m * curr\n",
    "            else:\n",
    "                curr += ch\n",
    "            \n",
    "        return ''.join(stack) + curr\n",
    "    \n",
    "\n",
    "s = Solution()\n",
    "\"aabbbccccddddd\" == s.decodeString(\"2[a]3[b]4[c]5[d]\")"
   ]
  },
  {
   "cell_type": "markdown",
   "metadata": {},
   "source": [
    "## July 19th, 2020 submission:\n",
    "#### Runtime: 24 ms, faster than 93.73% of Python3 online submissions for Decode String.\n",
    "#### Memory Usage: 13.9 MB, less than 37.03% of Python3 online submissions for Decode String."
   ]
  },
  {
   "cell_type": "markdown",
   "metadata": {},
   "source": [
    "# Explanation"
   ]
  },
  {
   "cell_type": "markdown",
   "metadata": {},
   "source": [
    "Faster than 93% probably cause our solution is O(n) runtime.\n",
    "Probably only 37% better memory wise because we use a stack to track things.\n",
    "\n",
    "Think of this question like taking inputs to a calculator.\n",
    "eg. Given a string that represents some set of operations, what is the final output value."
   ]
  }
 ],
 "metadata": {
  "kernelspec": {
   "display_name": "Python 3",
   "language": "python",
   "name": "python3"
  },
  "language_info": {
   "codemirror_mode": {
    "name": "ipython",
    "version": 3
   },
   "file_extension": ".py",
   "mimetype": "text/x-python",
   "name": "python",
   "nbconvert_exporter": "python",
   "pygments_lexer": "ipython3",
   "version": "3.8.2"
  }
 },
 "nbformat": 4,
 "nbformat_minor": 4
}
